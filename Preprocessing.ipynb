{
  "cells": [
    {
      "cell_type": "markdown",
      "metadata": {
        "id": "view-in-github",
        "colab_type": "text"
      },
      "source": [
        "<a href=\"https://colab.research.google.com/github/MALTOisHERE/Fingerprint_Recognition_System/blob/main/Preprocessing.ipynb\" target=\"_parent\"><img src=\"https://colab.research.google.com/assets/colab-badge.svg\" alt=\"Open In Colab\"/></a>"
      ]
    },
    {
      "cell_type": "code",
      "execution_count": null,
      "metadata": {
        "colab": {
          "base_uri": "https://localhost:8080/"
        },
        "id": "wYqRrvC94_0T",
        "outputId": "0347c548-8a60-44a1-d5b8-65617c4d58d0"
      },
      "outputs": [
        {
          "output_type": "stream",
          "name": "stdout",
          "text": [
            "Drive already mounted at /content/drive; to attempt to forcibly remount, call drive.mount(\"/content/drive\", force_remount=True).\n"
          ]
        }
      ],
      "source": [
        "from google.colab import drive\n",
        "drive.mount('/content/drive')"
      ]
    },
    {
      "cell_type": "markdown",
      "metadata": {
        "id": "bIOe0wgOBcLk"
      },
      "source": [
        " <h1>1. Importing Libraries</h1>\n",
        "\n",
        "*   **cv2:** Used for reading and processing images in grayscale.\n",
        "*   **PIL (Pillow):** Used for image manipulation such as cropping, opening, and saving images.\n",
        "*   **numpy:** Handles array operations.\n",
        "*   **os & os.path:** Used for file path management.\n",
        "\n",
        "*  **skimage** (filters, morphology): Provides functions for thresholding (Otsu’s method) and applying morphological operations.\n"
      ]
    },
    {
      "cell_type": "code",
      "execution_count": null,
      "metadata": {
        "id": "7M-PVCjjBXDQ"
      },
      "outputs": [],
      "source": [
        "import cv2\n",
        "from PIL import Image, ImageOps, ImageEnhance\n",
        "import numpy as np\n",
        "import os\n",
        "from os.path import basename, join\n",
        "from skimage import util, filters, morphology\n"
      ]
    },
    {
      "cell_type": "markdown",
      "metadata": {
        "id": "uivxEYfxEeo9"
      },
      "source": [
        "<h1> 2. Variables Definition</h1>"
      ]
    },
    {
      "cell_type": "code",
      "execution_count": null,
      "metadata": {
        "id": "KBZ0Iu7vEe87"
      },
      "outputs": [],
      "source": [
        "# global variables\n",
        "EXPAND_WIDTH = 250\n",
        "EXPAND_HEIGHT = 250\n",
        "\n",
        "CropWidth = 220\n",
        "CropHeight = 220\n",
        "ExpWidth = 250\n",
        "ExpHeight = 250"
      ]
    },
    {
      "cell_type": "markdown",
      "metadata": {
        "id": "DKUHNx3LEzaY"
      },
      "source": [
        "<h1> 3. Extracting the Fingerprint Region</h1>"
      ]
    },
    {
      "cell_type": "code",
      "execution_count": null,
      "metadata": {
        "id": "otkjnQo7Eztb"
      },
      "outputs": [],
      "source": [
        "# This function calculates the region of interest (ROI) in a fingerprint image\n",
        "def get_fp_region(img_path, crop_width=250, crop_height=250):\n",
        "    CropWidth = crop_width\n",
        "    CropHeight = crop_height\n",
        "    ExpWidth = EXPAND_WIDTH\n",
        "    ExpHeight = EXPAND_HEIGHT\n",
        "\n",
        "    image = cv2.imread(img_path, cv2.IMREAD_GRAYSCALE)\n",
        "    thresh = filters.threshold_otsu(image)\n",
        "\n",
        "    picBW = image > thresh\n",
        "    # plot_image(picBW, \"B&W\")\n",
        "\n",
        "\n",
        "    # Helps remove small holes and smooth the shape of the fingerprint region.\n",
        "    bw = morphology.closing(image > thresh, morphology.square(3))\n",
        "    # plot_image(bw, \"B&W\")\n",
        "\n",
        "    cleared = bw.copy()\n",
        "\n",
        "    img_width = image.shape[1]\n",
        "    img_height = image.shape[0]\n",
        "    #print(img_width, img_height)\n",
        "\n",
        "    crop_l = img_width\n",
        "    crop_r = 0\n",
        "    crop_t = img_height\n",
        "    crop_b = 0\n",
        "    for i in range(img_height):\n",
        "        for j in range(img_width):\n",
        "            if cleared[i, j] == False:\n",
        "                if (crop_l > j):\n",
        "                    crop_l = j\n",
        "                if (crop_r < j):\n",
        "                    crop_r = j\n",
        "                if (crop_t > i):\n",
        "                    crop_t = i\n",
        "                if (crop_b < i):\n",
        "                    crop_b = i\n",
        "\n",
        "    if ((crop_r - crop_l) < CropWidth):\n",
        "        diff = CropWidth - (crop_r - crop_l)\n",
        "        if (crop_r + crop_l > CropWidth): # right\n",
        "            if (img_width - crop_r > diff / 2):\n",
        "                crop_r += diff / 2\n",
        "                crop_l -= diff / 2\n",
        "            else:\n",
        "                crop_r = img_width - 1\n",
        "                crop_l = crop_r - (CropWidth + 2)\n",
        "        else: # left\n",
        "            if (crop_l > diff / 2):\n",
        "                crop_l -= diff / 2\n",
        "                crop_r += diff / 2\n",
        "            else:\n",
        "                crop_l = 1\n",
        "                crop_r = crop_l + (CropWidth + 2)\n",
        "    if ((crop_b - crop_t) < CropHeight):\n",
        "        diff = CropHeight - (crop_b - crop_t)\n",
        "        if (crop_b + crop_t > CropHeight): # bottom\n",
        "            if (img_height - crop_b > diff / 2):\n",
        "                crop_b += diff / 2\n",
        "                crop_t -= diff / 2\n",
        "            else:\n",
        "                crop_b = img_height - 1\n",
        "                crop_t = crop_b - (CropHeight + 2)\n",
        "        else: # top\n",
        "            if (crop_t > diff / 2):\n",
        "                crop_t -= diff / 2\n",
        "                crop_b += diff / 2\n",
        "            else:\n",
        "                crop_t = 1\n",
        "                crop_b = crop_t + (CropHeight + 2)\n",
        "\n",
        "    # expand region for rotation\n",
        "    crop_l = (crop_r + crop_l - CropWidth) / 2\n",
        "    crop_r = crop_l + CropWidth\n",
        "    crop_t = (crop_t + crop_b - CropHeight) / 2\n",
        "    crop_b = crop_t + CropHeight\n",
        "    crop_l = (int)(crop_l - ((ExpWidth - CropWidth) / 2))\n",
        "    crop_r = (int)(crop_r + ((ExpWidth - CropWidth) / 2))\n",
        "    crop_t = (int)(crop_t - ((ExpHeight - CropHeight) / 2))\n",
        "    crop_b = (int)(crop_b + ((ExpHeight - CropHeight) / 2))\n",
        "\n",
        "    # check expanded region\n",
        "    diff = 0\n",
        "    if (crop_l < 0):\n",
        "        diff = 0 - crop_l\n",
        "        crop_l = crop_l + diff\n",
        "        crop_r = crop_r + diff\n",
        "    if (crop_r >= img_width):\n",
        "        diff = crop_r - (img_width - 1)\n",
        "        crop_l = crop_l - diff\n",
        "        crop_r = crop_r - diff\n",
        "\n",
        "    diff = 0\n",
        "    if (crop_t < 0):\n",
        "        diff = 0 - crop_t\n",
        "        crop_t = crop_t + diff\n",
        "        crop_b = crop_b + diff\n",
        "    if (crop_b >= img_height):\n",
        "        diff = crop_b - (img_height - 1)\n",
        "        crop_t = crop_t - diff\n",
        "        crop_b = crop_b - diff\n",
        "\n",
        "    return (crop_l, crop_t, crop_r, crop_b)"
      ]
    },
    {
      "cell_type": "markdown",
      "metadata": {
        "id": "74WywjL4alc9"
      },
      "source": [
        "<h1>4. Preprocessing Function</h1>\n",
        "\n",
        "The function opens the input image and retrieves the ROI boundaries using get_fp_region."
      ]
    },
    {
      "cell_type": "code",
      "execution_count": null,
      "metadata": {
        "id": "Un8EtFaqa_dV"
      },
      "outputs": [],
      "source": [
        "def preprocess(input_img, out_img):\n",
        "    finger_idx = 1\n",
        "    # get fingerprint region\n",
        "    img = Image.open(input_img)\n",
        "    (crop_l, crop_t, crop_r, crop_b) = get_fp_region(input_img)\n",
        "    # crop for process image\n",
        "    crop_x = (ExpWidth - CropWidth) / 2\n",
        "    crop_y = (ExpHeight - CropHeight) / 2\n",
        "    img = img.crop([crop_l, crop_t, crop_r, crop_b])\n",
        "    # single crop - save\n",
        "    img_c = img.crop([crop_x, crop_y, crop_x + CropWidth, crop_y + CropHeight])\n",
        "    img_c.save(out_img)"
      ]
    },
    {
      "cell_type": "code",
      "execution_count": null,
      "metadata": {
        "id": "m07ua_ysz-5o"
      },
      "outputs": [],
      "source": [
        "\n",
        "preprocess(\n",
        "    \"/content/drive/MyDrive/biometric-data/dataset/1_1_1.jpg\",\n",
        "    \"/content/drive/MyDrive/biometric-data/sucon.jpg\"\n",
        ")"
      ]
    }
  ],
  "metadata": {
    "colab": {
      "provenance": [],
      "include_colab_link": true
    },
    "kernelspec": {
      "display_name": "Python 3",
      "name": "python3"
    },
    "language_info": {
      "name": "python"
    }
  },
  "nbformat": 4,
  "nbformat_minor": 0
}